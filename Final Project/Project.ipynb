{
  "nbformat": 4,
  "nbformat_minor": 0,
  "metadata": {
    "colab": {
      "name": "Project.ipynb",
      "provenance": [],
      "collapsed_sections": []
    },
    "kernelspec": {
      "name": "python3",
      "display_name": "Python 3"
    },
    "language_info": {
      "name": "python"
    },
    "accelerator": "GPU",
    "gpuClass": "standard"
  },
  "cells": [
    {
      "cell_type": "code",
      "source": [
        "!nvidia-smi -L"
      ],
      "metadata": {
        "colab": {
          "base_uri": "https://localhost:8080/"
        },
        "id": "KNUKaf2ZmatO",
        "outputId": "fd0921b0-a3a6-442a-9e4c-cc54570cc15c"
      },
      "execution_count": 2,
      "outputs": [
        {
          "output_type": "stream",
          "name": "stdout",
          "text": [
            "GPU 0: Tesla T4 (UUID: GPU-7799c436-a990-f862-ccf2-e97a4e580a8c)\n"
          ]
        }
      ]
    },
    {
      "cell_type": "code",
      "execution_count": 1,
      "metadata": {
        "id": "9Ny-Xy1HpNWv",
        "colab": {
          "base_uri": "https://localhost:8080/"
        },
        "outputId": "ec5918e2-8ced-4659-98e6-8e3b5b0a5a45"
      },
      "outputs": [
        {
          "output_type": "stream",
          "name": "stdout",
          "text": [
            "Mounted at /content/drive\n"
          ]
        }
      ],
      "source": [
        "from google.colab import drive\n",
        "drive.mount('/content/drive')"
      ]
    },
    {
      "cell_type": "code",
      "source": [
        "import numpy as np\n",
        "import matplotlib.pyplot as plt\n",
        "import os\n",
        "import torch\n",
        "import torch.nn as nn\n",
        "import torch.nn.functional as F\n",
        "import torch.optim as optim \n",
        "from torchvision import datasets \n",
        "from torchvision import transforms\n",
        "from torch.utils.data import Dataset, DataLoader, TensorDataset\n",
        "from torch.optim.lr_scheduler import StepLR \n",
        "from torchvision.transforms.transforms import ToPILImage\n",
        "from PIL import Image\n",
        "import cv2\n",
        "from sklearn.metrics import accuracy_score\n",
        "import seaborn as sn\n",
        "import pandas as pd\n",
        "from sklearn.metrics import confusion_matrix\n"
      ],
      "metadata": {
        "id": "eSwK25GhqvTt"
      },
      "execution_count": 3,
      "outputs": []
    },
    {
      "cell_type": "code",
      "source": [
        "device = torch.device(\"cuda:0\" if torch.cuda.is_available() else \"cpu\")\n",
        "print(device)"
      ],
      "metadata": {
        "colab": {
          "base_uri": "https://localhost:8080/"
        },
        "id": "sYLZseXwG2j6",
        "outputId": "feea9d6e-6932-408b-ec83-d91e8562625d"
      },
      "execution_count": 4,
      "outputs": [
        {
          "output_type": "stream",
          "name": "stdout",
          "text": [
            "cuda:0\n"
          ]
        }
      ]
    },
    {
      "cell_type": "markdown",
      "source": [
        "Dataset"
      ],
      "metadata": {
        "id": "k78xjOaHAQ9c"
      }
    },
    {
      "cell_type": "code",
      "source": [
        "class FACE_IMG(Dataset):\n",
        "  def __init__(self, dataset_path, _type, transform=None):\n",
        "    self.transform = transform\n",
        "    self.dataset_path = dataset_path\n",
        "    self.images_path = []\n",
        "    self.images_labels = []\n",
        "    for idx_folder, folder in enumerate(os.listdir(self.dataset_path)):\n",
        "      number_of_images_in_this_folder = len([_ for _ in os.listdir(os.path.join(self.dataset_path, folder))])\n",
        "      for idx, filename in enumerate(os.listdir(os.path.join(self.dataset_path, folder))):\n",
        "        if _type == 'Train' and idx in range(int(number_of_images_in_this_folder * 0.8)):\n",
        "          self.images_path.append(os.path.join(self.dataset_path, folder, filename))\n",
        "          self.images_labels.append(idx_folder)\n",
        "        elif _type == 'Test'and idx in range(int(number_of_images_in_this_folder * 0.8), number_of_images_in_this_folder):\n",
        "          self.images_path.append(os.path.join(self.dataset_path, folder, filename))\n",
        "          self.images_labels.append(idx_folder)\n",
        "\n",
        "  def __len__(self):\n",
        "    return len(self.images_path)\n",
        "\n",
        "  def __getitem__(self, index):\n",
        "    img = cv2.imread(self.images_path[index])\n",
        "    label = self.images_labels[index]\n",
        "    if self.transform:\n",
        "      image = self.transform(img)\n",
        "    one_hot_label = np.zeros(7)\n",
        "    one_hot_label[label] = 1\n",
        "    return image, torch.from_numpy(one_hot_label)\n"
      ],
      "metadata": {
        "id": "uGRsmkiNiVHY"
      },
      "execution_count": 5,
      "outputs": []
    },
    {
      "cell_type": "code",
      "source": [
        "preprocess = transforms.Compose([\n",
        "    transforms.ToPILImage(),\n",
        "    transforms.Resize((256, 256)),\n",
        "    transforms.RandomHorizontalFlip(),\n",
        "    #transforms.ColorJitter(brightness=0.2, contrast=0.2, saturation=0.1, hue=0.1),\n",
        "    transforms.ToTensor(),  \n",
        "    transforms.Normalize((0.485, 0.456, 0.406), (0.229, 0.224, 0.225))\n",
        "])\n",
        "path = \"/content/drive/MyDrive/CK+48\""
      ],
      "metadata": {
        "id": "EV_Q73yalDkV"
      },
      "execution_count": 6,
      "outputs": []
    },
    {
      "cell_type": "code",
      "source": [
        "ds = FACE_IMG(path, 'Test', preprocess)"
      ],
      "metadata": {
        "id": "VTrIKaGCg4F4"
      },
      "execution_count": 7,
      "outputs": []
    },
    {
      "cell_type": "code",
      "source": [
        "ds[10][1]"
      ],
      "metadata": {
        "colab": {
          "base_uri": "https://localhost:8080/"
        },
        "id": "MXptdw-ROTpS",
        "outputId": "9adcf2ef-da76-472a-b258-fbdf6b2d5839"
      },
      "execution_count": 8,
      "outputs": [
        {
          "output_type": "execute_result",
          "data": {
            "text/plain": [
              "tensor([1., 0., 0., 0., 0., 0., 0.], dtype=torch.float64)"
            ]
          },
          "metadata": {},
          "execution_count": 8
        }
      ]
    },
    {
      "cell_type": "code",
      "source": [
        "plt.imshow(ds[10][0].numpy().transpose([1,2,0]))"
      ],
      "metadata": {
        "colab": {
          "base_uri": "https://localhost:8080/",
          "height": 304
        },
        "id": "KlTNgpRuljWI",
        "outputId": "79714e9e-e44b-4733-a571-aa222b9b8cc0"
      },
      "execution_count": 9,
      "outputs": [
        {
          "output_type": "stream",
          "name": "stderr",
          "text": [
            "Clipping input data to the valid range for imshow with RGB data ([0..1] for floats or [0..255] for integers).\n"
          ]
        },
        {
          "output_type": "execute_result",
          "data": {
            "text/plain": [
              "<matplotlib.image.AxesImage at 0x7f4620f6bc90>"
            ]
          },
          "metadata": {},
          "execution_count": 9
        },
        {
          "output_type": "display_data",
          "data": {
            "text/plain": [
              "<Figure size 432x288 with 1 Axes>"
            ],
            "image/png": "[encoded data removed]"
          },
          "metadata": {
            "needs_background": "light"
          }
        }
      ]
    },
    {
      "cell_type": "code",
      "source": [
        "# 80% train, 20% test\n",
        "BATCH_SIZE = 16\n",
        "trainloader = torch.utils.data.DataLoader(FACE_IMG(path, 'Train', preprocess), batch_size=BATCH_SIZE,   \n",
        "                                          shuffle=True, num_workers=2)\n",
        "\n",
        "testloader = torch.utils.data.DataLoader(FACE_IMG(path, 'Test', preprocess), batch_size=BATCH_SIZE,\n",
        "                                         shuffle=True, num_workers=2)"
      ],
      "metadata": {
        "id": "grLKvua4BCrM"
      },
      "execution_count": 10,
      "outputs": []
    },
    {
      "cell_type": "markdown",
      "source": [
        "Model"
      ],
      "metadata": {
        "id": "AsvsdIRJCgfs"
      }
    },
    {
      "cell_type": "code",
      "source": [
        "import torchvision.models as models\n",
        "\n",
        "face_net = models.vgg16(pretrained=True)"
      ],
      "metadata": {
        "colab": {
          "base_uri": "https://localhost:8080/"
        },
        "id": "2ZSmd6IGCf-m",
        "outputId": "d01bbb93-2922-45a4-ab97-18595d213f72"
      },
      "execution_count": 22,
      "outputs": [
        {
          "output_type": "stream",
          "name": "stderr",
          "text": [
            "/usr/local/lib/python3.7/dist-packages/torchvision/models/_utils.py:209: UserWarning: The parameter 'pretrained' is deprecated since 0.13 and will be removed in 0.15, please use 'weights' instead.\n",
            "  f\"The parameter '{pretrained_param}' is deprecated since 0.13 and will be removed in 0.15, \"\n",
            "/usr/local/lib/python3.7/dist-packages/torchvision/models/_utils.py:223: UserWarning: Arguments other than a weight enum or `None` for 'weights' are deprecated since 0.13 and will be removed in 0.15. The current behavior is equivalent to passing `weights=VGG16_Weights.IMAGENET1K_V1`. You can also use `weights=VGG16_Weights.DEFAULT` to get the most up-to-date weights.\n",
            "  warnings.warn(msg)\n"
          ]
        }
      ]
    },
    {
      "cell_type": "code",
      "source": [
        "face_net"
      ],
      "metadata": {
        "colab": {
          "base_uri": "https://localhost:8080/"
        },
        "id": "gSPfyeS00oRS",
        "outputId": "7aaf01be-9f62-4689-d901-e2a7cbcbb17e"
      },
      "execution_count": 23,
      "outputs": [
        {
          "output_type": "execute_result",
          "data": {
            "text/plain": [
              "VGG(\n",
              "  (features): Sequential(\n",
              "    (0): Conv2d(3, 64, kernel_size=(3, 3), stride=(1, 1), padding=(1, 1))\n",
              "    (1): ReLU(inplace=True)\n",
              "    (2): Conv2d(64, 64, kernel_size=(3, 3), stride=(1, 1), padding=(1, 1))\n",
              "    (3): ReLU(inplace=True)\n",
              "    (4): MaxPool2d(kernel_size=2, stride=2, padding=0, dilation=1, ceil_mode=False)\n",
              "    (5): Conv2d(64, 128, kernel_size=(3, 3), stride=(1, 1), padding=(1, 1))\n",
              "    (6): ReLU(inplace=True)\n",
              "    (7): Conv2d(128, 128, kernel_size=(3, 3), stride=(1, 1), padding=(1, 1))\n",
              "    (8): ReLU(inplace=True)\n",
              "    (9): MaxPool2d(kernel_size=2, stride=2, padding=0, dilation=1, ceil_mode=False)\n",
              "    (10): Conv2d(128, 256, kernel_size=(3, 3), stride=(1, 1), padding=(1, 1))\n",
              "    (11): ReLU(inplace=True)\n",
              "    (12): Conv2d(256, 256, kernel_size=(3, 3), stride=(1, 1), padding=(1, 1))\n",
              "    (13): ReLU(inplace=True)\n",
              "    (14): Conv2d(256, 256, kernel_size=(3, 3), stride=(1, 1), padding=(1, 1))\n",
              "    (15): ReLU(inplace=True)\n",
              "    (16): MaxPool2d(kernel_size=2, stride=2, padding=0, dilation=1, ceil_mode=False)\n",
              "    (17): Conv2d(256, 512, kernel_size=(3, 3), stride=(1, 1), padding=(1, 1))\n",
              "    (18): ReLU(inplace=True)\n",
              "    (19): Conv2d(512, 512, kernel_size=(3, 3), stride=(1, 1), padding=(1, 1))\n",
              "    (20): ReLU(inplace=True)\n",
              "    (21): Conv2d(512, 512, kernel_size=(3, 3), stride=(1, 1), padding=(1, 1))\n",
              "    (22): ReLU(inplace=True)\n",
              "    (23): MaxPool2d(kernel_size=2, stride=2, padding=0, dilation=1, ceil_mode=False)\n",
              "    (24): Conv2d(512, 512, kernel_size=(3, 3), stride=(1, 1), padding=(1, 1))\n",
              "    (25): ReLU(inplace=True)\n",
              "    (26): Conv2d(512, 512, kernel_size=(3, 3), stride=(1, 1), padding=(1, 1))\n",
              "    (27): ReLU(inplace=True)\n",
              "    (28): Conv2d(512, 512, kernel_size=(3, 3), stride=(1, 1), padding=(1, 1))\n",
              "    (29): ReLU(inplace=True)\n",
              "    (30): MaxPool2d(kernel_size=2, stride=2, padding=0, dilation=1, ceil_mode=False)\n",
              "  )\n",
              "  (avgpool): AdaptiveAvgPool2d(output_size=(7, 7))\n",
              "  (classifier): Sequential(\n",
              "    (0): Linear(in_features=25088, out_features=4096, bias=True)\n",
              "    (1): ReLU(inplace=True)\n",
              "    (2): Dropout(p=0.5, inplace=False)\n",
              "    (3): Linear(in_features=4096, out_features=4096, bias=True)\n",
              "    (4): ReLU(inplace=True)\n",
              "    (5): Dropout(p=0.5, inplace=False)\n",
              "    (6): Linear(in_features=4096, out_features=1000, bias=True)\n",
              "  )\n",
              ")"
            ]
          },
          "metadata": {},
          "execution_count": 23
        }
      ]
    },
    {
      "cell_type": "code",
      "source": [
        "class FaceNet2ExpNet(nn.Module):\n",
        "  def __init__(self):\n",
        "    super(FaceNet2ExpNet, self).__init__()\n",
        "        \n",
        "    features = list(face_net.features)\n",
        "    self.face_net = nn.ModuleList(features)  \n",
        "    for param in self.face_net.parameters(): #freeze face net parameters\n",
        "      param.requires_grad = False\n",
        "    \n",
        "    self.conv1 = nn.Conv2d(in_channels=3, out_channels=64, kernel_size=3, stride=1 , padding=3)\n",
        "    self.max_pool1 = nn.MaxPool2d(kernel_size=3, stride=2, padding=0)\n",
        "    self.conv2 = nn.Conv2d(in_channels=64, out_channels=128, kernel_size=3, stride=1 , padding=3)\n",
        "    self.max_pool2 = nn.MaxPool2d(kernel_size=3, stride=2, padding=0)\n",
        "    self.conv3 = nn.Conv2d(in_channels=128, out_channels=256, kernel_size=3, stride=1 , padding=3)\n",
        "    self.max_pool3 = nn.MaxPool2d(kernel_size=3, stride=2, padding=0)\n",
        "    self.conv4 = nn.Conv2d(in_channels=256, out_channels=512, kernel_size=3, stride=1 , padding=3)\n",
        "    self.max_pool4 = nn.MaxPool2d(kernel_size=3, stride=2, padding=0)\n",
        "    self.conv5 = nn.Conv2d(in_channels=512, out_channels=512, kernel_size=3, stride=1 , padding=3)\n",
        "    self.max_pool5 = nn.MaxPool2d(kernel_size=3, stride=2, padding=0)\n",
        "\n",
        "    #self.last_conv = nn.Conv2d(in_channels=512, out_channels=512, kernel_size=1, stride=3 , padding=6)\n",
        "    self.last_conv = nn.ConvTranspose2d(in_channels=512, out_channels=512, kernel_size=1, stride=1, padding=1)\n",
        "    #self.last_pool = nn.MaxPool2d(kernel_size=3, stride=2, padding=0) #????????????????\n",
        "\n",
        "    self.FC = nn.Linear(in_features=32768, out_features=7)\n",
        "\n",
        "  def stage1_forward(self, x):\n",
        "    x = F.relu(self.conv1(x))\n",
        "    x = self.max_pool1(x)\n",
        "    x = F.relu(self.conv2(x))\n",
        "    x = self.max_pool2(x)\n",
        "    x = F.relu(self.conv3(x))\n",
        "    x = self.max_pool3(x)\n",
        "    x = F.relu(self.conv4(x))\n",
        "    x = self.max_pool4(x)\n",
        "    x = F.relu(self.conv5(x))\n",
        "    x = self.max_pool5(x)\n",
        "\n",
        "    x = self.last_conv(x)\n",
        "    return x\n",
        "  \n",
        "  def faceNet_forward(self, x):\n",
        "    for i,layer in enumerate(self.face_net):\n",
        "      x = layer(x)\n",
        "    return x\n",
        "\n",
        "  def stage2_forward(self, x):\n",
        "    x = self.stage1_forward(x)\n",
        "    #x = self.avgpool(x)\n",
        "    x = torch.flatten(x, 1)\n",
        "    x = self.FC(x)\n",
        "    return x\n",
        "  "
      ],
      "metadata": {
        "id": "VPc3LrkLDT-e"
      },
      "execution_count": 24,
      "outputs": []
    },
    {
      "cell_type": "code",
      "source": [
        "model = FaceNet2ExpNet().to(device)"
      ],
      "metadata": {
        "id": "6tBoJMd_R01f"
      },
      "execution_count": 25,
      "outputs": []
    },
    {
      "cell_type": "code",
      "source": [
        "def save_ckp(state, checkpoint_path): \n",
        "  f_path = checkpoint_path \n",
        "  # save checkpoint data to the path given, checkpoint_path \n",
        "  torch.save(state, f_path)"
      ],
      "metadata": {
        "id": "TpxtHNTzFnZc"
      },
      "execution_count": 26,
      "outputs": []
    },
    {
      "cell_type": "code",
      "source": [
        "def stage1_train(model, epochs, trainloader, testloader, save_path):\n",
        "  loss_train = []\n",
        "  loss_test = []\n",
        "  optimizer = optim.SGD(model.parameters(), lr = 5e-1, momentum = 0.9)\n",
        "  model.stage1_lr = optim.lr_scheduler.StepLR(optimizer, step_size=50, gamma=0.5)\n",
        "  loss_function = nn.MSELoss()\n",
        "\n",
        "  for epoch in range(epochs):\n",
        "    running_loss = 0.0\n",
        "    for i, data in enumerate(trainloader, 0):\n",
        "      img, label = data[0].to(device), data[1]\n",
        "      optimizer.zero_grad()\n",
        "      output = model.stage1_forward(img)\n",
        "      faceNet_output = model.faceNet_forward(img)\n",
        "      loss = loss_function(output, faceNet_output)\n",
        "      loss.backward()\n",
        "      optimizer.step()\n",
        "      running_loss += loss.item()\n",
        "    \n",
        "    #######################################################\n",
        "    loss_train.append(running_loss / (i+1))\n",
        "    print('[%d] loss Train: %.8f' % (epoch + 1, loss_train[-1]))\n",
        "    ################################## Test #################################\n",
        "    if epoch % 5 == 4:\n",
        "      with torch.no_grad():\n",
        "        running_loss_test = 0.0\n",
        "        for j, data_test in enumerate(testloader, 0):\n",
        "          img, label = data_test[0].to(device), data_test[1]\n",
        "          output = model.stage1_forward(img)\n",
        "          faceNet_output = model.faceNet_forward(img)\n",
        "          loss = loss_function(output, faceNet_output)\n",
        "          running_loss_test += loss.item()\n",
        "        loss_test.append(running_loss_test / (j+1))\n",
        "        print('-------------------------------[%d] loss Test: %.8f' % (epoch + 1, loss_test[-1]))\n",
        "\n",
        "      checkpoint = {'epoch': epoch + 1, 'state_dict': model.state_dict(), 'optimizer': optimizer.state_dict()} \n",
        "      save_ckp(checkpoint, save_path)\n",
        "\n",
        "  return loss_train, loss_test\n"
      ],
      "metadata": {
        "id": "CT9zA10wHwew"
      },
      "execution_count": 27,
      "outputs": []
    },
    {
      "cell_type": "code",
      "source": [
        "def plot_stage1_results(loss_train, loss_test):\n",
        "  plt.plot(np.arange(1,len(loss_train)+1), loss_train)\n",
        "  plt.ylabel('loss of Train')\n",
        "  plt.xlabel(\"epochs\")\n",
        "  plt.grid(True)\n",
        "  plt.show()\n",
        "\n",
        "  plt.plot(np.arange(1,len(loss_test)+1), loss_test)\n",
        "  plt.ylabel('loss of Test')\n",
        "  plt.xlabel(\"each 5 epochs\")\n",
        "  plt.grid(True)\n",
        "  plt.show()"
      ],
      "metadata": {
        "id": "UiQ6DIm7GCna"
      },
      "execution_count": 28,
      "outputs": []
    },
    {
      "cell_type": "code",
      "source": [
        "save_path = '/content/drive/MyDrive/DL_Final_Project/model.pt'\n",
        "loss_train, loss_test = stage1_train(model, 100, trainloader, testloader, save_path)"
      ],
      "metadata": {
        "id": "QGkgYLQqSS2j",
        "colab": {
          "base_uri": "https://localhost:8080/"
        },
        "outputId": "539f5eb4-0a08-4550-e1bf-98d686030945"
      },
      "execution_count": 29,
      "outputs": [
        {
          "output_type": "stream",
          "name": "stdout",
          "text": [
            "[1] loss Train: 0.33099552\n",
            "[2] loss Train: 0.29569477\n",
            "[3] loss Train: 0.27264841\n",
            "[4] loss Train: 0.25588574\n",
            "[5] loss Train: 0.24623954\n",
            "-------------------------------[5] loss Test: 0.23464676\n",
            "[6] loss Train: 0.23430670\n",
            "[7] loss Train: 0.22660358\n",
            "[8] loss Train: 0.22037731\n",
            "[9] loss Train: 0.21549322\n",
            "[10] loss Train: 0.20969741\n",
            "-------------------------------[10] loss Test: 0.20381464\n",
            "[11] loss Train: 0.20411414\n",
            "[12] loss Train: 0.19967744\n",
            "[13] loss Train: 0.19498795\n",
            "[14] loss Train: 0.19160792\n",
            "[15] loss Train: 0.18841016\n",
            "-------------------------------[15] loss Test: 0.18672526\n",
            "[16] loss Train: 0.18477448\n",
            "[17] loss Train: 0.18116938\n",
            "[18] loss Train: 0.17717023\n",
            "[19] loss Train: 0.17589371\n",
            "[20] loss Train: 0.17306529\n",
            "-------------------------------[20] loss Test: 0.17440885\n",
            "[21] loss Train: 0.16926407\n",
            "[22] loss Train: 0.16589198\n",
            "[23] loss Train: 0.16274929\n",
            "[24] loss Train: 0.16152372\n",
            "[25] loss Train: 0.15878207\n",
            "-------------------------------[25] loss Test: 0.16612438\n",
            "[26] loss Train: 0.15666127\n",
            "[27] loss Train: 0.15320125\n",
            "[28] loss Train: 0.15058495\n",
            "[29] loss Train: 0.14819664\n",
            "[30] loss Train: 0.14708227\n",
            "-------------------------------[30] loss Test: 0.15570655\n",
            "[31] loss Train: 0.14451259\n",
            "[32] loss Train: 0.14210349\n",
            "[33] loss Train: 0.14081155\n",
            "[34] loss Train: 0.14008485\n",
            "[35] loss Train: 0.13720672\n",
            "-------------------------------[35] loss Test: 0.14578875\n",
            "[36] loss Train: 0.13518209\n",
            "[37] loss Train: 0.13371644\n",
            "[38] loss Train: 0.13208787\n",
            "[39] loss Train: 0.13030511\n",
            "[40] loss Train: 0.13011074\n",
            "-------------------------------[40] loss Test: 0.14218434\n",
            "[41] loss Train: 0.12756405\n",
            "[42] loss Train: 0.12652666\n",
            "[43] loss Train: 0.12494342\n",
            "[44] loss Train: 0.12365690\n",
            "[45] loss Train: 0.12296731\n",
            "-------------------------------[45] loss Test: 0.13783347\n",
            "[46] loss Train: 0.12213995\n",
            "[47] loss Train: 0.12079467\n",
            "[48] loss Train: 0.11961785\n",
            "[49] loss Train: 0.11837239\n",
            "[50] loss Train: 0.11752199\n",
            "-------------------------------[50] loss Test: 0.13346743\n",
            "[51] loss Train: 0.11572936\n",
            "[52] loss Train: 0.11514295\n",
            "[53] loss Train: 0.11500695\n",
            "[54] loss Train: 0.11388097\n",
            "[55] loss Train: 0.11247564\n",
            "-------------------------------[55] loss Test: 0.13105557\n",
            "[56] loss Train: 0.11183317\n",
            "[57] loss Train: 0.11104623\n",
            "[58] loss Train: 0.10993559\n",
            "[59] loss Train: 0.10906519\n",
            "[60] loss Train: 0.10835657\n",
            "-------------------------------[60] loss Test: 0.12720242\n",
            "[61] loss Train: 0.10786462\n",
            "[62] loss Train: 0.10711622\n",
            "[63] loss Train: 0.10653297\n",
            "[64] loss Train: 0.10637280\n",
            "[65] loss Train: 0.10517405\n",
            "-------------------------------[65] loss Test: 0.12520429\n",
            "[66] loss Train: 0.10453809\n",
            "[67] loss Train: 0.10412806\n",
            "[68] loss Train: 0.10440442\n",
            "[69] loss Train: 0.10324626\n",
            "[70] loss Train: 0.10265484\n",
            "-------------------------------[70] loss Test: 0.12285727\n",
            "[71] loss Train: 0.10271154\n",
            "[72] loss Train: 0.10304584\n",
            "[73] loss Train: 0.10221052\n",
            "[74] loss Train: 0.10098677\n",
            "[75] loss Train: 0.10002796\n",
            "-------------------------------[75] loss Test: 0.12173562\n",
            "[76] loss Train: 0.09943731\n",
            "[77] loss Train: 0.09899304\n",
            "[78] loss Train: 0.09867420\n",
            "[79] loss Train: 0.09752943\n",
            "[80] loss Train: 0.09723283\n",
            "-------------------------------[80] loss Test: 0.11970283\n",
            "[81] loss Train: 0.09715503\n",
            "[82] loss Train: 0.09749476\n",
            "[83] loss Train: 0.09689627\n",
            "[84] loss Train: 0.09576621\n",
            "[85] loss Train: 0.09584617\n",
            "-------------------------------[85] loss Test: 0.11862374\n",
            "[86] loss Train: 0.09467816\n",
            "[87] loss Train: 0.09473820\n",
            "[88] loss Train: 0.09523337\n",
            "[89] loss Train: 0.09469778\n",
            "[90] loss Train: 0.09372956\n",
            "-------------------------------[90] loss Test: 0.11789049\n",
            "[91] loss Train: 0.09299796\n",
            "[92] loss Train: 0.09337978\n",
            "[93] loss Train: 0.09373020\n",
            "[94] loss Train: 0.09342680\n",
            "[95] loss Train: 0.09334012\n",
            "-------------------------------[95] loss Test: 0.11866269\n",
            "[96] loss Train: 0.09270753\n",
            "[97] loss Train: 0.09182213\n",
            "[98] loss Train: 0.09131047\n",
            "[99] loss Train: 0.09143457\n",
            "[100] loss Train: 0.09071876\n",
            "-------------------------------[100] loss Test: 0.11511284\n"
          ]
        }
      ]
    },
    {
      "cell_type": "code",
      "source": [
        "plot_stage1_results(loss_train, loss_test)"
      ],
      "metadata": {
        "id": "emzvH43gHXKq",
        "colab": {
          "base_uri": "https://localhost:8080/",
          "height": 544
        },
        "outputId": "f61f8590-2678-405a-9896-f9340dd98a41"
      },
      "execution_count": 30,
      "outputs": [
        {
          "output_type": "display_data",
          "data": {
            "text/plain": [
              "<Figure size 432x288 with 1 Axes>"
            ],
            "image/png": "[encoded data removed]"
          },
          "metadata": {
            "needs_background": "light"
          }
        },
        {
          "output_type": "display_data",
          "data": {
            "text/plain": [
              "<Figure size 432x288 with 1 Axes>"
            ],
            "image/png": "[encoded data removed]"
          },
          "metadata": {
            "needs_background": "light"
          }
        }
      ]
    },
    {
      "cell_type": "code",
      "source": [
        "def stage2_train(self, epochs, trainloader, testloader):\n",
        "  loss_train = []\n",
        "  loss_test = []\n",
        "  acc_test = []\n",
        "\n",
        "  y_pred = []\n",
        "  y_true = []\n",
        "\n",
        "  optimizer = optim.SGD(model.parameters(), lr = 1e-3, momentum = 0.9)\n",
        "  loss_function = nn.CrossEntropyLoss()\n",
        "\n",
        "  for epoch in range(epochs):\n",
        "    running_loss = 0.0\n",
        "    for i, data in enumerate(trainloader, 0):\n",
        "      img, label = data[0].to(device), data[1].to(device)\n",
        "      optimizer.zero_grad()\n",
        "      output = self.stage2_forward(img)\n",
        "      loss = loss_function(output, label)\n",
        "      loss.backward()\n",
        "      optimizer.step()\n",
        "      running_loss += loss.item()\n",
        "    #######################################################\n",
        "    loss_train.append(running_loss / (i+1))\n",
        "    print('[%d] loss Train: %.8f' % (epoch + 1, loss_train[-1]))\n",
        "    ################################## Test #################################\n",
        "    \n",
        "    with torch.no_grad():\n",
        "      running_loss_test = 0.0\n",
        "      running_acc = 0.0\n",
        "  \n",
        "      for j, data_test in enumerate(testloader, 0):\n",
        "        img, label = data_test[0].to(device), data_test[1].to(device)\n",
        "        output = self.stage2_forward(img)\n",
        "\n",
        "        y_pred.extend(torch.argmax(output, 1).cpu().numpy())\n",
        "        y_true.extend(torch.argmax(label, 1).cpu().numpy())\n",
        "        \n",
        "        loss = loss_function(output, label)\n",
        "        running_acc += accuracy_score(torch.argmax(label, 1).cpu().numpy(), torch.argmax(output, 1).cpu().numpy())\n",
        "        running_loss_test += loss.item()\n",
        "      acc_test.append(running_acc / (j+1))\n",
        "      loss_test.append(running_loss_test / (j+1))\n",
        "      print('----------------------[%d] loss Test: %.8f , Accuracy: %.4f' % (epoch + 1, loss_test[-1], acc_test[-1]))\n",
        "    \n",
        "    if epoch % 3 == 2:\n",
        "      checkpoint = {'epoch': epoch + 1, 'state_dict': model.state_dict(), 'optimizer': optimizer.state_dict()} \n",
        "      save_ckp(checkpoint, save_path)\n",
        "\n",
        "  return loss_train, loss_test, acc_test, y_pred, y_true\n"
      ],
      "metadata": {
        "id": "qCeik3XCSGeo"
      },
      "execution_count": 32,
      "outputs": []
    },
    {
      "cell_type": "code",
      "source": [
        "def plot_stage2_results(loss_train, loss_test, acc_test):\n",
        "  plt.plot(np.arange(1,len(loss_train)+1), loss_train)\n",
        "  plt.ylabel('loss of Train')\n",
        "  plt.xlabel(\"epochs\")\n",
        "  plt.grid(True)\n",
        "  plt.show()\n",
        "\n",
        "  plt.plot(np.arange(1,len(loss_test)+1), loss_test)\n",
        "  plt.ylabel('loss of Test')\n",
        "  plt.xlabel(\"epochs\")\n",
        "  plt.grid(True)\n",
        "  plt.show()\n",
        "\n",
        "  plt.plot(np.arange(1,len(acc_test)+1), acc_test)\n",
        "  plt.ylabel('Accuracy of Test')\n",
        "  plt.xlabel(\"epochs\")\n",
        "  plt.grid(True)\n",
        "  plt.show()"
      ],
      "metadata": {
        "id": "FBGlPbeXHzIT"
      },
      "execution_count": 33,
      "outputs": []
    },
    {
      "cell_type": "code",
      "source": [
        "def plot_confusion_matrix(y_pred, y_true):\n",
        "\n",
        "  classes = ('anger', 'contempt', 'disgust', 'fear', 'happy','sadness', 'surprise')\n",
        "\n",
        "  cf_matrix = confusion_matrix(y_true, y_pred)\n",
        "  df_cm = pd.DataFrame(cf_matrix/np.sum(cf_matrix) *7, index = [i for i in classes],columns = [i for i in classes])\n",
        "  \n",
        "  plt.figure(figsize = (12,7))\n",
        "  sn.heatmap(df_cm, annot=True)"
      ],
      "metadata": {
        "id": "USSx2vXgY3d5"
      },
      "execution_count": 34,
      "outputs": []
    },
    {
      "cell_type": "code",
      "source": [
        "stage2_loss_train, stage2_loss_test, acc_test, y_pred, y_true= stage2_train(model, 15, trainloader, testloader)"
      ],
      "metadata": {
        "id": "n31R7w9nzHvo",
        "colab": {
          "base_uri": "https://localhost:8080/"
        },
        "outputId": "8a329628-b161-4205-8e18-d43b5a1499ce"
      },
      "execution_count": 35,
      "outputs": [
        {
          "output_type": "stream",
          "name": "stdout",
          "text": [
            "[1] loss Train: 0.72284558\n",
            "----------------------[1] loss Test: 0.22290415 , Accuracy: 0.9375\n",
            "[2] loss Train: 0.11069855\n",
            "----------------------[2] loss Test: 0.09430589 , Accuracy: 0.9663\n",
            "[3] loss Train: 0.02753485\n",
            "----------------------[3] loss Test: 0.04255610 , Accuracy: 0.9856\n",
            "[4] loss Train: 0.01377165\n",
            "----------------------[4] loss Test: 0.01545873 , Accuracy: 1.0000\n",
            "[5] loss Train: 0.00660732\n",
            "----------------------[5] loss Test: 0.01218121 , Accuracy: 1.0000\n",
            "[6] loss Train: 0.00405067\n",
            "----------------------[6] loss Test: 0.00814455 , Accuracy: 1.0000\n",
            "[7] loss Train: 0.00272043\n",
            "----------------------[7] loss Test: 0.00527524 , Accuracy: 1.0000\n",
            "[8] loss Train: 0.00234090\n",
            "----------------------[8] loss Test: 0.00609576 , Accuracy: 1.0000\n",
            "[9] loss Train: 0.00236342\n",
            "----------------------[9] loss Test: 0.00484105 , Accuracy: 1.0000\n",
            "[10] loss Train: 0.00193585\n",
            "----------------------[10] loss Test: 0.00404399 , Accuracy: 1.0000\n",
            "[11] loss Train: 0.00169036\n",
            "----------------------[11] loss Test: 0.00460351 , Accuracy: 1.0000\n",
            "[12] loss Train: 0.00140102\n",
            "----------------------[12] loss Test: 0.00410420 , Accuracy: 1.0000\n",
            "[13] loss Train: 0.00136273\n",
            "----------------------[13] loss Test: 0.00299783 , Accuracy: 1.0000\n",
            "[14] loss Train: 0.00120421\n",
            "----------------------[14] loss Test: 0.00258990 , Accuracy: 1.0000\n",
            "[15] loss Train: 0.00103589\n",
            "----------------------[15] loss Test: 0.00304267 , Accuracy: 1.0000\n"
          ]
        }
      ]
    },
    {
      "cell_type": "code",
      "source": [
        "plot_stage2_results(stage2_loss_train, stage2_loss_test, acc_test)"
      ],
      "metadata": {
        "id": "yw9gyQ_vIf2_",
        "colab": {
          "base_uri": "https://localhost:8080/",
          "height": 803
        },
        "outputId": "c694c5aa-8e75-47c6-98c7-8de46175047a"
      },
      "execution_count": 36,
      "outputs": [
        {
          "output_type": "display_data",
          "data": {
            "text/plain": [
              "<Figure size 432x288 with 1 Axes>"
            ],
            "image/png": "[encoded data removed]"
          },
          "metadata": {
            "needs_background": "light"
          }
        },
        {
          "output_type": "display_data",
          "data": {
            "text/plain": [
              "<Figure size 432x288 with 1 Axes>"
            ],
            "image/png": "[encoded data removed]"
          },
          "metadata": {
            "needs_background": "light"
          }
        },
        {
          "output_type": "display_data",
          "data": {
            "text/plain": [
              "<Figure size 432x288 with 1 Axes>"
            ],
            "image/png": "[encoded data removed]"
          },
          "metadata": {
            "needs_background": "light"
          }
        }
      ]
    },
    {
      "cell_type": "code",
      "source": [
        "plot_confusion_matrix(y_pred, y_true)"
      ],
      "metadata": {
        "id": "X-9-F9p_Powz",
        "colab": {
          "base_uri": "https://localhost:8080/",
          "height": 428
        },
        "outputId": "de9437c8-a8fb-4b6c-e662-3ee6759a3d27"
      },
      "execution_count": 37,
      "outputs": [
        {
          "output_type": "display_data",
          "data": {
            "text/plain": [
              "<Figure size 864x504 with 2 Axes>"
            ],
            "image/png": "[encoded data removed]"
          },
          "metadata": {
            "needs_background": "light"
          }
        }
      ]
    },
    {
      "cell_type": "code",
      "source": [
        ""
      ],
      "metadata": {
        "id": "PaYM_qxATz10"
      },
      "execution_count": null,
      "outputs": []
    }
  ]
}